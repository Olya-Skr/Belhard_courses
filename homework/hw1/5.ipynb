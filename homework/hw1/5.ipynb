{
  "cells": [
    {
      "cell_type": "markdown",
      "metadata": {
        "id": "MuDRkf2wQcuT"
      },
      "source": [
        "# Функция, которая принимает список чисел и возвращает их сумму.\n"
      ]
    },
    {
      "cell_type": "code",
      "execution_count": 1,
      "metadata": {
        "colab": {
          "base_uri": "https://localhost:8080/"
        },
        "id": "bOWAErCwQRlg",
        "outputId": "d770be41-4f5d-475b-bd9b-705041c2232c"
      },
      "outputs": [
        {
          "name": "stdout",
          "output_type": "stream",
          "text": [
            "Input data:  [1, 2, 3, 0]\n",
            "Result:  6\n"
          ]
        }
      ],
      "source": [
        "x = [1,2,3,0]\n",
        "print(\"Input data: \", x)\n",
        "def total_sum(x):\n",
        "    length = len(x)\n",
        "    sum = 0\n",
        "    c = 0\n",
        "    while c < length:\n",
        "       sum = sum + x[c]\n",
        "       c += 1\n",
        "    return sum\n",
        "\n",
        "print(\"Result: \", total_sum(x))"
      ]
    }
  ],
  "metadata": {
    "colab": {
      "provenance": []
    },
    "kernelspec": {
      "display_name": "Python 3",
      "name": "python3"
    },
    "language_info": {
      "codemirror_mode": {
        "name": "ipython",
        "version": 3
      },
      "file_extension": ".py",
      "mimetype": "text/x-python",
      "name": "python",
      "nbconvert_exporter": "python",
      "pygments_lexer": "ipython3",
      "version": "3.10.0rc2"
    }
  },
  "nbformat": 4,
  "nbformat_minor": 0
}
