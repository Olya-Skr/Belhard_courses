{
  "nbformat": 4,
  "nbformat_minor": 0,
  "metadata": {
    "colab": {
      "provenance": []
    },
    "kernelspec": {
      "name": "python3",
      "display_name": "Python 3"
    },
    "language_info": {
      "name": "python"
    }
  },
  "cells": [
    {
      "cell_type": "markdown",
      "source": [
        "# Создание БД, таблицы, импорт данных"
      ],
      "metadata": {
        "id": "ckrX6Xvem1l_"
      }
    },
    {
      "cell_type": "code",
      "execution_count": 1,
      "metadata": {
        "colab": {
          "base_uri": "https://localhost:8080/"
        },
        "id": "gRuoolQzl9c9",
        "outputId": "bdb2c70b-c93e-4ece-ab25-bfe990020a9a"
      },
      "outputs": [
        {
          "output_type": "stream",
          "name": "stdout",
          "text": [
            "Исходные таблицы в БД\n",
            "('table', 'sqlite_sequence', 'sqlite_sequence', 3, 'CREATE TABLE sqlite_sequence(name,seq)')\n",
            "('table', 'titanic', 'titanic', 2, 'CREATE TABLE \"titanic\" (\\n\\t\"Survived\"\\tINTEGER,\\n\\t\"Pclass\"\\tINTEGER,\\n\\t\"Name\"\\tTEXT,\\n\\t\"Sex\"\\tTEXT,\\n\\t\"Age\"\\tINTEGER,\\n\\t\"SiblingsSpouses\"\\tINTEGER,\\n\\t\"ParentsChildren\"\\tINTEGER,\\n\\t\"Fare\"\\tREAL\\n)')\n",
            "Копия таблицы\n",
            "(1, 0, 3, 'Mr. Owen Harris Braund', 'male', 22, 1, 0, 7.25)\n",
            "(2, 1, 1, 'Mrs. John Bradley (Florence Briggs Thayer) Cumings', 'female', 38, 1, 0, 71.2833)\n",
            "(3, 1, 3, 'Miss. Laina Heikkinen', 'female', 26, 0, 0, 7.925)\n",
            "(4, 1, 1, 'Mrs. Jacques Heath (Lily May Peel) Futrelle', 'female', 35, 1, 0, 53.1)\n",
            "(5, 0, 3, 'Mr. William Henry Allen', 'male', 35, 0, 0, 8.05)\n",
            "(6, 0, 3, 'Mr. James Moran', 'male', 27, 0, 0, 8.4583)\n",
            "(7, 0, 1, 'Mr. Timothy J McCarthy', 'male', 54, 0, 0, 51.8625)\n",
            "(8, 0, 3, 'Master. Gosta Leonard Palsson', 'male', 2, 3, 1, 21.075)\n",
            "(9, 1, 3, 'Mrs. Oscar W (Elisabeth Vilhelmina Berg) Johnson', 'female', 27, 0, 2, 11.1333)\n",
            "(10, 1, 2, 'Mrs. Nicholas (Adele Achem) Nasser', 'female', 14, 1, 0, 30.0708)\n"
          ]
        }
      ],
      "source": [
        "import csv,sqlite3\n",
        "\n",
        "# Подключение к SQLite БД с уже загруженными данными\n",
        "conn = sqlite3.connect('db_ForBelhardCourses.db')\n",
        "cursor = conn.cursor()\n",
        "\n",
        "# проверка таблиц в БД\n",
        "cursor.execute(\"select * from sqlite_master;\")\n",
        "results = cursor.fetchall()\n",
        "print('Исходные таблицы в БД')\n",
        "for result in results:\n",
        "    print(result)\n",
        "\n",
        "# Создание копии таблицы, но с ключом PRIMARY KEY\n",
        "cursor.execute('''CREATE TABLE IF NOT EXISTS \"titanic_copy\" (\n",
        "\t\"id\"\tINTEGER NOT NULL,\n",
        "\t\"Survived\"\tINTEGER,\n",
        "\t\"Pclass\"\tINTEGER,\n",
        "\t\"Name\"\tTEXT,\n",
        "\t\"Sex\"\tTEXT,\n",
        "\t\"Age\"\tINTEGER,\n",
        "\t\"SiblingsSpouses\"\tINTEGER,\n",
        "\t\"ParentsChildren\"\tINTEGER,\n",
        "\t\"Fare\"\tREAL,\n",
        "\tPRIMARY KEY(\"id\" AUTOINCREMENT))''')\n",
        "\n",
        "# Подготавливаем файл csv для вставки в БД\n",
        "with open('titanic.csv') as file:\n",
        "    data_list = [row for row in csv.reader(file)]\n",
        "data_list_for_imort = tuple(data_list)\n",
        "#print(data_list_for_imort[1:])\n",
        "\n",
        "# вставка в БД\n",
        "cursor.executemany(\"INSERT INTO titanic_copy ('Survived', 'Pclass', 'Name', 'Sex', 'Age', 'SiblingsSpouses', 'ParentsChildren', 'Fare') VALUES (?, ?, ?, ?, ?, ?, ?, ?);\", data_list_for_imort[1:])\n",
        "\n",
        "cursor.execute(\"SELECT * FROM titanic_copy LIMIT 10;\")\n",
        "results = cursor.fetchall()\n",
        "print('Копия таблицы')\n",
        "for result in results:\n",
        "    print(result)\n",
        "\n",
        "#cursor.execute(\"DROP TABLE titanic_copy;\")\n",
        "\n"
      ]
    },
    {
      "cell_type": "markdown",
      "source": [
        "# Несколько SQL-запросов"
      ],
      "metadata": {
        "id": "Xaq2cmh4n0Bb"
      }
    },
    {
      "cell_type": "code",
      "source": [
        "# Выборка с фильтрацией\n",
        "cursor.execute(\"SELECT * FROM titanic WHERE Survived=1 AND Age<=18 limit 5\")\n",
        "results = cursor.fetchall()\n",
        "print('Выжившие несовершенолетние:')\n",
        "for result in results:\n",
        "    print(result)\n",
        "\n",
        "# Агрегатные функции (SUM, AVG, COUNT)\n",
        "cursor.execute(\" SELECT count(*) FROM titanic_copy  GROUP BY Fare HAVING Fare>AVG(Fare);\")\n",
        "results = cursor.fetchone()\n",
        "print('Количество пассажиров со стоимостью билета выше среднего:', results)\n",
        "\n",
        "cursor.execute(\" SELECT sum(SiblingsSpouses)+sum(ParentsChildren) FROM titanic_copy  WHERE Survived=0;\")\n",
        "results = cursor.fetchall()\n",
        "print('Количество родствеников у невыживших:', results)\n",
        "\n",
        "# Вставка 1\n",
        "cursor.execute(\"INSERT INTO titanic_copy(Survived,Name,Age) VALUES(1,'Jack',22),(1,'Rose',17);\")\n",
        "# Вставка 2\n",
        "data = [\n",
        "    ('0', 'Filip','Male',50),\n",
        "    ('1', 'Kitty','Female',50)\n",
        "      ]\n",
        "cursor.executemany(\"INSERT INTO titanic_copy (Survived,Name,Sex,Age) VALUES (?, ?, ?, ?)\", data)\n",
        " # Обновление данных\n",
        "cursor.execute(\"UPDATE titanic_copy SET Survived = ?, Sex = ? WHERE Name = ?\",(0, 'Male', 'Jack'))\n",
        "\n",
        "cursor.execute(\"SELECT * FROM titanic_copy ORDER BY id DESC LIMIT 4\")\n",
        "results = cursor.fetchall()\n",
        "print('После вставки и обновления')\n",
        "for result in results:\n",
        "   print(result)\n",
        "\n",
        "# Удаление данных\n",
        "results=cursor.execute(\"DELETE FROM titanic_copy WHERE NAME='Jack'\")\n",
        "results=cursor.execute(\"SELECT * FROM titanic_copy ORDER BY id DESC LIMIT 4\")\n",
        "print('После удаления')\n",
        "results = cursor.fetchall()\n",
        "for result in results:\n",
        "    print(result)\n",
        "\n",
        "# Закрытие соединения и сохранение изменений\n",
        "conn.commit()\n",
        "conn.close()"
      ],
      "metadata": {
        "colab": {
          "base_uri": "https://localhost:8080/"
        },
        "id": "faXnUjmWn84H",
        "outputId": "40c47a02-b9f0-48bd-9790-858b6295d5be"
      },
      "execution_count": 2,
      "outputs": [
        {
          "output_type": "stream",
          "name": "stdout",
          "text": [
            "Выжившие несовершенолетние:\n",
            "(1, 2, 'Mrs. Nicholas (Adele Achem) Nasser', 'female', 14, 1, 0, 30.0708)\n",
            "(1, 3, 'Miss. Marguerite Rut Sandstrom', 'female', 4, 1, 1, 16.7)\n",
            "(1, 3, 'Miss. Anna McGowan', 'female', 15, 0, 0, 8.0292)\n",
            "(1, 3, 'Miss. Mary Agatha Glynn', 'female', 18, 0, 0, 7.75)\n",
            "(1, 3, 'Mr. Hanna Mamee', 'male', 18, 0, 0, 7.2292)\n",
            "Количество пассажиров со стоимостью билета выше среднего: (7,)\n",
            "Количество родствеников у невыживших: [(485,)]\n",
            "После вставки и обновления\n",
            "(891, 1, None, 'Kitty', 'Female', 50, None, None, None)\n",
            "(890, 0, None, 'Filip', 'Male', 50, None, None, None)\n",
            "(889, 1, None, 'Rose', None, 17, None, None, None)\n",
            "(888, 0, None, 'Jack', 'Male', 22, None, None, None)\n",
            "После удаления\n",
            "(891, 1, None, 'Kitty', 'Female', 50, None, None, None)\n",
            "(890, 0, None, 'Filip', 'Male', 50, None, None, None)\n",
            "(889, 1, None, 'Rose', None, 17, None, None, None)\n",
            "(887, 0, 3, 'Mr. Patrick Dooley', 'male', 32, 0, 0, 7.75)\n"
          ]
        }
      ]
    },
    {
      "cell_type": "markdown",
      "source": [
        "# Визуализации"
      ],
      "metadata": {
        "id": "PE_WqwMUtHM2"
      }
    },
    {
      "cell_type": "code",
      "source": [
        "import visualization as vi\n",
        "import pandas as pd\n",
        "\n",
        "conn = sqlite3.connect('db_ForBelhardCourses.db')\n",
        "cursor = conn.cursor()\n",
        "\n",
        "cursor.execute(\"SELECT Age FROM titanic_copy\")\n",
        "results = cursor.fetchall()\n",
        "df = pd.DataFrame(results)\n",
        "# Гистограмма для просмотра возвраста пассажиров\n",
        "vi.visual_field(df[0])\n",
        "\n",
        "cursor.execute(\"SELECT Sex,Pclass,Survived FROM titanic_copy\")\n",
        "results = cursor.fetchall()\n",
        "df = pd.DataFrame(results)\n",
        "# Сводные таблица Демонстрация статистики выживших в зависимости от пола и класса\n",
        "vi.visual_piv(df,df[0],df[1],df[2])\n",
        "\n",
        "conn.commit()\n",
        "conn.close()"
      ],
      "metadata": {
        "colab": {
          "base_uri": "https://localhost:8080/",
          "height": 881
        },
        "id": "EKPECwu7tJ0N",
        "outputId": "ea1c5212-bf58-4b0d-b75a-1c50f963649e"
      },
      "execution_count": null,
      "outputs": [
        {
          "output_type": "display_data",
          "data": {
            "text/plain": [
              "<Figure size 640x480 with 1 Axes>"
            ],
            "image/png": "[encoded data removed]"
          },
          "metadata": {}
        },
        {
          "output_type": "display_data",
          "data": {
            "text/plain": [
              "<Figure size 640x480 with 2 Axes>"
            ],
            "image/png": "[encoded data removed]"
          },
          "metadata": {}
        }
      ]
    }
  ]
}